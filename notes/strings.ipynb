{
 "cells": [
  {
   "cell_type": "markdown",
   "id": "077f7255",
   "metadata": {},
   "source": [
    "# String Operations"
   ]
  },
  {
   "cell_type": "markdown",
   "id": "a3bf75bd",
   "metadata": {},
   "source": []
  },
  {
   "cell_type": "code",
   "execution_count": 24,
   "id": "ed2813ba",
   "metadata": {},
   "outputs": [],
   "source": [
    "a = \"Shree is a good girl. Phani is a good boy.\""
   ]
  },
  {
   "cell_type": "markdown",
   "id": "b8243388",
   "metadata": {},
   "source": [
    "# Finding total number of characters"
   ]
  },
  {
   "cell_type": "code",
   "execution_count": 4,
   "id": "2f44a72e",
   "metadata": {},
   "outputs": [
    {
     "data": {
      "text/plain": [
       "42"
      ]
     },
     "execution_count": 4,
     "metadata": {},
     "output_type": "execute_result"
    }
   ],
   "source": [
    "len(a)"
   ]
  },
  {
   "cell_type": "markdown",
   "id": "3f59acd1",
   "metadata": {},
   "source": [
    "# All upper and lower case"
   ]
  },
  {
   "cell_type": "code",
   "execution_count": null,
   "id": "824e6398",
   "metadata": {},
   "outputs": [
    {
     "data": {
      "text/plain": [
       "'SHREE IS A GOOD GIRL. PHANI IS A GOOD BOY.'"
      ]
     },
     "execution_count": 5,
     "metadata": {},
     "output_type": "execute_result"
    }
   ],
   "source": [
    "a.upper() # dosen't update the original string"
   ]
  },
  {
   "cell_type": "code",
   "execution_count": 6,
   "id": "3cdd8a8e",
   "metadata": {},
   "outputs": [
    {
     "data": {
      "text/plain": [
       "'Shree is a good girl. Phani is a good boy.'"
      ]
     },
     "execution_count": 6,
     "metadata": {},
     "output_type": "execute_result"
    }
   ],
   "source": [
    "a"
   ]
  },
  {
   "cell_type": "code",
   "execution_count": 7,
   "id": "edca682b",
   "metadata": {},
   "outputs": [
    {
     "data": {
      "text/plain": [
       "'shree is a good girl. phani is a good boy.'"
      ]
     },
     "execution_count": 7,
     "metadata": {},
     "output_type": "execute_result"
    }
   ],
   "source": [
    "a.lower()"
   ]
  },
  {
   "cell_type": "markdown",
   "id": "aa8dd0d0",
   "metadata": {},
   "source": [
    "# Find kth character"
   ]
  },
  {
   "cell_type": "code",
   "execution_count": 9,
   "id": "685bcb4e",
   "metadata": {},
   "outputs": [
    {
     "data": {
      "text/plain": [
       "'S'"
      ]
     },
     "execution_count": 9,
     "metadata": {},
     "output_type": "execute_result"
    }
   ],
   "source": [
    "a[0] # first element"
   ]
  },
  {
   "cell_type": "code",
   "execution_count": 10,
   "id": "3a741138",
   "metadata": {},
   "outputs": [
    {
     "data": {
      "text/plain": [
       "'Shree'"
      ]
     },
     "execution_count": 10,
     "metadata": {},
     "output_type": "execute_result"
    }
   ],
   "source": [
    "a[:5] # first 5 characters"
   ]
  },
  {
   "cell_type": "markdown",
   "id": "ad467039",
   "metadata": {},
   "source": [
    "# Reverse the string"
   ]
  },
  {
   "cell_type": "code",
   "execution_count": 14,
   "id": "d43fc07c",
   "metadata": {},
   "outputs": [
    {
     "data": {
      "text/plain": [
       "'.yob doog a si inahP .lrig doog a si eerhS'"
      ]
     },
     "execution_count": 14,
     "metadata": {},
     "output_type": "execute_result"
    }
   ],
   "source": [
    "a[::-1] # reverse the string, but dosen't update the original string"
   ]
  },
  {
   "cell_type": "markdown",
   "id": "15cf0570",
   "metadata": {},
   "source": [
    "# .split()\n",
    "- will give list of strings"
   ]
  },
  {
   "cell_type": "code",
   "execution_count": 17,
   "id": "7915e785",
   "metadata": {},
   "outputs": [
    {
     "data": {
      "text/plain": [
       "['Shree', 'is', 'a', 'good', 'girl.', 'Phani', 'is', 'a', 'good', 'boy.']"
      ]
     },
     "execution_count": 17,
     "metadata": {},
     "output_type": "execute_result"
    }
   ],
   "source": [
    "a.split(\" \")"
   ]
  },
  {
   "cell_type": "code",
   "execution_count": 18,
   "id": "28290ea5",
   "metadata": {},
   "outputs": [
    {
     "data": {
      "text/plain": [
       "['Shree is a good girl', ' Phani is a good boy', '']"
      ]
     },
     "execution_count": 18,
     "metadata": {},
     "output_type": "execute_result"
    }
   ],
   "source": [
    "a.split(\".\")"
   ]
  },
  {
   "cell_type": "code",
   "execution_count": 20,
   "id": "6ba1b3fa",
   "metadata": {},
   "outputs": [
    {
     "data": {
      "text/plain": [
       "['Shree is a good girl', ' Phani is a good boy']"
      ]
     },
     "execution_count": 20,
     "metadata": {},
     "output_type": "execute_result"
    }
   ],
   "source": [
    "a.split(\".\")[:-1]"
   ]
  },
  {
   "cell_type": "markdown",
   "id": "3ed7100a",
   "metadata": {},
   "source": [
    "# .replace()"
   ]
  },
  {
   "cell_type": "code",
   "execution_count": 25,
   "id": "1a4402bf",
   "metadata": {},
   "outputs": [
    {
     "data": {
      "text/plain": [
       "'Shree is a good girl. Phani is a good boy.'"
      ]
     },
     "execution_count": 25,
     "metadata": {},
     "output_type": "execute_result"
    }
   ],
   "source": [
    "a"
   ]
  },
  {
   "cell_type": "code",
   "execution_count": 28,
   "id": "c0c87978",
   "metadata": {},
   "outputs": [
    {
     "data": {
      "text/plain": [
       "'SR is a good girl. PH is a good boy.'"
      ]
     },
     "execution_count": 28,
     "metadata": {},
     "output_type": "execute_result"
    }
   ],
   "source": [
    "a.replace(\"Shree\",\"SR\").replace(\"Phani\",\"PH\")"
   ]
  },
  {
   "cell_type": "markdown",
   "id": "df1f35bd",
   "metadata": {},
   "source": [
    "# String conversion"
   ]
  },
  {
   "cell_type": "code",
   "execution_count": 29,
   "id": "6e3bff23",
   "metadata": {},
   "outputs": [
    {
     "data": {
      "text/plain": [
       "'123'"
      ]
     },
     "execution_count": 29,
     "metadata": {},
     "output_type": "execute_result"
    }
   ],
   "source": [
    "b = 123 # integer\n",
    "b = str(b)\n",
    "b\n"
   ]
  },
  {
   "cell_type": "code",
   "execution_count": null,
   "id": "cf49a228",
   "metadata": {},
   "outputs": [],
   "source": []
  }
 ],
 "metadata": {
  "kernelspec": {
   "display_name": "genai312",
   "language": "python",
   "name": "python3"
  },
  "language_info": {
   "codemirror_mode": {
    "name": "ipython",
    "version": 3
   },
   "file_extension": ".py",
   "mimetype": "text/x-python",
   "name": "python",
   "nbconvert_exporter": "python",
   "pygments_lexer": "ipython3",
   "version": "3.12.9"
  }
 },
 "nbformat": 4,
 "nbformat_minor": 5
}
