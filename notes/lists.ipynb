{
 "cells": [
  {
   "cell_type": "markdown",
   "id": "acfd5747",
   "metadata": {},
   "source": [
    "# List operations"
   ]
  },
  {
   "cell_type": "markdown",
   "id": "16960127",
   "metadata": {},
   "source": [
    "# .append()"
   ]
  },
  {
   "cell_type": "code",
   "execution_count": 3,
   "id": "a8f99264",
   "metadata": {},
   "outputs": [
    {
     "data": {
      "text/plain": [
       "[1, 2, 3, 'Abcd', 3.123]"
      ]
     },
     "execution_count": 3,
     "metadata": {},
     "output_type": "execute_result"
    }
   ],
   "source": [
    "A = [1,2,3,\"Abcd\",3.123]\n",
    "A"
   ]
  },
  {
   "cell_type": "code",
   "execution_count": 4,
   "id": "6fa4df96",
   "metadata": {},
   "outputs": [
    {
     "data": {
      "text/plain": [
       "[1, 2, 3, 'Abcd', 3.123, 'phani']"
      ]
     },
     "execution_count": 4,
     "metadata": {},
     "output_type": "execute_result"
    }
   ],
   "source": [
    "A.append(\"phani\")\n",
    "A"
   ]
  },
  {
   "cell_type": "markdown",
   "id": "f473bb26",
   "metadata": {},
   "source": [
    "# Finding Kth index (0 based indexing)"
   ]
  },
  {
   "cell_type": "code",
   "execution_count": 5,
   "id": "1d7e4b65",
   "metadata": {},
   "outputs": [
    {
     "data": {
      "text/plain": [
       "1"
      ]
     },
     "execution_count": 5,
     "metadata": {},
     "output_type": "execute_result"
    }
   ],
   "source": [
    "A[0] # first element\n"
   ]
  },
  {
   "cell_type": "code",
   "execution_count": 6,
   "id": "f43beebc",
   "metadata": {},
   "outputs": [
    {
     "data": {
      "text/plain": [
       "3.123"
      ]
     },
     "execution_count": 6,
     "metadata": {},
     "output_type": "execute_result"
    }
   ],
   "source": [
    "A[-2] # second last element"
   ]
  },
  {
   "cell_type": "markdown",
   "id": "fa85901a",
   "metadata": {},
   "source": [
    "# Slicing"
   ]
  },
  {
   "cell_type": "code",
   "execution_count": 7,
   "id": "04405de5",
   "metadata": {},
   "outputs": [
    {
     "data": {
      "text/plain": [
       "[1, 2, 3, 4, 5, 6, 7, 8, 9, 10]"
      ]
     },
     "execution_count": 7,
     "metadata": {},
     "output_type": "execute_result"
    }
   ],
   "source": [
    "B = [1,2,3,4,5,6,7,8,9,10]\n",
    "B"
   ]
  },
  {
   "cell_type": "code",
   "execution_count": 9,
   "id": "d171af48",
   "metadata": {},
   "outputs": [
    {
     "data": {
      "text/plain": [
       "[3, 4, 5, 6, 7, 8, 9, 10]"
      ]
     },
     "execution_count": 9,
     "metadata": {},
     "output_type": "execute_result"
    }
   ],
   "source": [
    "B[2:] # from 2nd index to end or 3rd element to end"
   ]
  },
  {
   "cell_type": "code",
   "execution_count": 10,
   "id": "bb4d66f7",
   "metadata": {},
   "outputs": [
    {
     "data": {
      "text/plain": [
       "[3, 4, 5, 6, 7, 8]"
      ]
     },
     "execution_count": 10,
     "metadata": {},
     "output_type": "execute_result"
    }
   ],
   "source": [
    "B[2:-2] # 2nd element to 2nd last element"
   ]
  },
  {
   "cell_type": "markdown",
   "id": "b78f745f",
   "metadata": {},
   "source": [
    "# Replace element"
   ]
  },
  {
   "cell_type": "code",
   "execution_count": 11,
   "id": "1391af98",
   "metadata": {},
   "outputs": [
    {
     "data": {
      "text/plain": [
       "[1, 2, 3, 4, 5, 6, 7, 8, 9, 10]"
      ]
     },
     "execution_count": 11,
     "metadata": {},
     "output_type": "execute_result"
    }
   ],
   "source": [
    "B"
   ]
  },
  {
   "cell_type": "code",
   "execution_count": 12,
   "id": "a00a00d8",
   "metadata": {},
   "outputs": [],
   "source": [
    "B[0] = \"phani\""
   ]
  },
  {
   "cell_type": "code",
   "execution_count": 13,
   "id": "e07cc5f5",
   "metadata": {},
   "outputs": [
    {
     "data": {
      "text/plain": [
       "['phani', 2, 3, 4, 5, 6, 7, 8, 9, 10]"
      ]
     },
     "execution_count": 13,
     "metadata": {},
     "output_type": "execute_result"
    }
   ],
   "source": [
    "B"
   ]
  },
  {
   "cell_type": "markdown",
   "id": "9970a2c8",
   "metadata": {},
   "source": [
    "# Poping"
   ]
  },
  {
   "cell_type": "code",
   "execution_count": 14,
   "id": "af3a5f3d",
   "metadata": {},
   "outputs": [
    {
     "data": {
      "text/plain": [
       "['phani', 2, 3, 4, 5, 6, 7, 8, 9, 10]"
      ]
     },
     "execution_count": 14,
     "metadata": {},
     "output_type": "execute_result"
    }
   ],
   "source": [
    "B"
   ]
  },
  {
   "cell_type": "code",
   "execution_count": 15,
   "id": "b1bb3c48",
   "metadata": {},
   "outputs": [
    {
     "data": {
      "text/plain": [
       "['phani', 2, 3, 4, 5, 6, 7, 8, 9]"
      ]
     },
     "execution_count": 15,
     "metadata": {},
     "output_type": "execute_result"
    }
   ],
   "source": [
    "B.pop()\n",
    "B"
   ]
  },
  {
   "cell_type": "code",
   "execution_count": 18,
   "id": "2c3df3ce",
   "metadata": {},
   "outputs": [
    {
     "data": {
      "text/plain": [
       "['phani', 3, 4, 5, 6, 7, 8, 9]"
      ]
     },
     "execution_count": 18,
     "metadata": {},
     "output_type": "execute_result"
    }
   ],
   "source": [
    "B.pop(1)\n",
    "B"
   ]
  },
  {
   "cell_type": "markdown",
   "id": "0b1176c4",
   "metadata": {},
   "source": [
    "# Extend"
   ]
  },
  {
   "cell_type": "code",
   "execution_count": 19,
   "id": "d3275287",
   "metadata": {},
   "outputs": [],
   "source": [
    "a = [1,2,3]\n",
    "b = [4,5,6]\n"
   ]
  },
  {
   "cell_type": "markdown",
   "id": "bbf9b3ed",
   "metadata": {},
   "source": [
    "- method 1 use +"
   ]
  },
  {
   "cell_type": "code",
   "execution_count": 20,
   "id": "0c744821",
   "metadata": {},
   "outputs": [
    {
     "data": {
      "text/plain": [
       "[1, 2, 3, 4, 5, 6]"
      ]
     },
     "execution_count": 20,
     "metadata": {},
     "output_type": "execute_result"
    }
   ],
   "source": [
    "a+b"
   ]
  },
  {
   "cell_type": "markdown",
   "id": "8ccc09d4",
   "metadata": {},
   "source": [
    "# method 2 use .extend()\n",
    "# This updates the first list"
   ]
  },
  {
   "cell_type": "code",
   "execution_count": null,
   "id": "92deff30",
   "metadata": {},
   "outputs": [],
   "source": [
    "a.extend(b) # equal to a = a + b"
   ]
  },
  {
   "cell_type": "code",
   "execution_count": 22,
   "id": "39001973",
   "metadata": {},
   "outputs": [
    {
     "data": {
      "text/plain": [
       "[1, 2, 3, 4, 5, 6]"
      ]
     },
     "execution_count": 22,
     "metadata": {},
     "output_type": "execute_result"
    }
   ],
   "source": [
    "a"
   ]
  },
  {
   "cell_type": "markdown",
   "id": "2899d47b",
   "metadata": {},
   "source": [
    "# List can be of any data type combination"
   ]
  },
  {
   "cell_type": "code",
   "execution_count": 23,
   "id": "96b37f04",
   "metadata": {},
   "outputs": [],
   "source": [
    "A = [1,2,[1,2,3,4],\"abcd\",1.1]"
   ]
  },
  {
   "cell_type": "code",
   "execution_count": 24,
   "id": "2bd2c184",
   "metadata": {},
   "outputs": [
    {
     "data": {
      "text/plain": [
       "[1, 2, [1, 2, 3, 4], 'abcd', 1.1]"
      ]
     },
     "execution_count": 24,
     "metadata": {},
     "output_type": "execute_result"
    }
   ],
   "source": [
    "A"
   ]
  },
  {
   "cell_type": "markdown",
   "id": "2a93e2c1",
   "metadata": {},
   "source": [
    "# Insert method"
   ]
  },
  {
   "cell_type": "code",
   "execution_count": 25,
   "id": "3540cf2d",
   "metadata": {},
   "outputs": [
    {
     "data": {
      "text/plain": [
       "[1, 'phani', 2, 3]"
      ]
     },
     "execution_count": 25,
     "metadata": {},
     "output_type": "execute_result"
    }
   ],
   "source": [
    "A = [1,2,3]\n",
    "\n",
    "A.insert(1,\"phani\")\n",
    "A"
   ]
  },
  {
   "cell_type": "markdown",
   "id": "f6ed1168",
   "metadata": {},
   "source": [
    "# copy"
   ]
  },
  {
   "cell_type": "code",
   "execution_count": 26,
   "id": "dce2da1c",
   "metadata": {},
   "outputs": [
    {
     "name": "stdout",
     "output_type": "stream",
     "text": [
      "[1, 2, 3, 4]\n",
      "[1, 2, 3, 4]\n"
     ]
    }
   ],
   "source": [
    "A = [1,2,3]\n",
    "B = A # no copy is created\n",
    "B.append(4) # updating B\n",
    "\n",
    "# This will also update A\n",
    "print(A)\n",
    "print(B)"
   ]
  },
  {
   "cell_type": "code",
   "execution_count": 27,
   "id": "7b2c7e79",
   "metadata": {},
   "outputs": [
    {
     "name": "stdout",
     "output_type": "stream",
     "text": [
      "[1, 2, 3]\n",
      "[1, 2, 3, 4]\n"
     ]
    }
   ],
   "source": [
    "# copy is used to create a new list and update it separately\n",
    "A = [1,2,3]\n",
    "B = A.copy()\n",
    "B.append(4)\n",
    "\n",
    "# This will not update A\n",
    "print(A)\n",
    "print(B)"
   ]
  },
  {
   "cell_type": "code",
   "execution_count": null,
   "id": "8e235396",
   "metadata": {},
   "outputs": [],
   "source": []
  }
 ],
 "metadata": {
  "kernelspec": {
   "display_name": "genai312",
   "language": "python",
   "name": "python3"
  },
  "language_info": {
   "codemirror_mode": {
    "name": "ipython",
    "version": 3
   },
   "file_extension": ".py",
   "mimetype": "text/x-python",
   "name": "python",
   "nbconvert_exporter": "python",
   "pygments_lexer": "ipython3",
   "version": "3.12.9"
  }
 },
 "nbformat": 4,
 "nbformat_minor": 5
}
