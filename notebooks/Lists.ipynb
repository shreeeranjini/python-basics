{
 "cells": [
  {
   "cell_type": "markdown",
   "id": "d9287c79",
   "metadata": {},
   "source": [
    "# Lists in python\n",
    "\n",
    "A = [1,2,3,\"Abcd\",3.123]"
   ]
  },
  {
   "cell_type": "code",
   "execution_count": 9,
   "id": "94441463",
   "metadata": {},
   "outputs": [
    {
     "data": {
      "text/plain": [
       "[1, 2, 3, 'Abcd', 3.123]"
      ]
     },
     "execution_count": 9,
     "metadata": {},
     "output_type": "execute_result"
    }
   ],
   "source": [
    "A = [1,2,3,\"Abcd\",3.123]\n",
    "A"
   ]
  },
  {
   "cell_type": "markdown",
   "id": "5b4ab3f1",
   "metadata": {},
   "source": [
    "# Add to list .append()\n",
    "- it will always add the element at the end of the list\n"
   ]
  },
  {
   "cell_type": "code",
   "execution_count": 10,
   "id": "4da5797c",
   "metadata": {},
   "outputs": [
    {
     "data": {
      "text/plain": [
       "[1, 2, 3, 'Abcd', 3.123, 'phani']"
      ]
     },
     "execution_count": 10,
     "metadata": {},
     "output_type": "execute_result"
    }
   ],
   "source": [
    "A.append(\"phani\")\n",
    "A"
   ]
  },
  {
   "cell_type": "markdown",
   "id": "c6debfd9",
   "metadata": {},
   "source": [
    "# Length of list len(A)"
   ]
  },
  {
   "cell_type": "code",
   "execution_count": 11,
   "id": "88206bb3",
   "metadata": {},
   "outputs": [
    {
     "data": {
      "text/plain": [
       "6"
      ]
     },
     "execution_count": 11,
     "metadata": {},
     "output_type": "execute_result"
    }
   ],
   "source": [
    "len(A)"
   ]
  },
  {
   "cell_type": "markdown",
   "id": "3637be57",
   "metadata": {},
   "source": [
    "# find kth element or kth index (0 based index)\n",
    "## A[0]   is 1st element"
   ]
  },
  {
   "cell_type": "code",
   "execution_count": 16,
   "id": "bb2e29de",
   "metadata": {},
   "outputs": [
    {
     "data": {
      "text/plain": [
       "('phani', 3)"
      ]
     },
     "execution_count": 16,
     "metadata": {},
     "output_type": "execute_result"
    }
   ],
   "source": [
    "A[5],A[2]"
   ]
  },
  {
   "cell_type": "markdown",
   "id": "7d372023",
   "metadata": {},
   "source": [
    "# Finding kth element from end \n",
    "- A[-k]\n",
    "- A[-1] is the last element"
   ]
  },
  {
   "cell_type": "code",
   "execution_count": 18,
   "id": "0df1182c",
   "metadata": {},
   "outputs": [
    {
     "data": {
      "text/plain": [
       "('phani', 'phani')"
      ]
     },
     "execution_count": 18,
     "metadata": {},
     "output_type": "execute_result"
    }
   ],
   "source": [
    "A[-1],A[len(A)-1]"
   ]
  },
  {
   "cell_type": "code",
   "execution_count": 28,
   "id": "a7f3e90d",
   "metadata": {},
   "outputs": [],
   "source": [
    "C = ['zbc',\"bcde\"]\n",
    "B = C.copy()\n",
    "B.sort()"
   ]
  },
  {
   "cell_type": "code",
   "execution_count": 29,
   "id": "da604436",
   "metadata": {},
   "outputs": [
    {
     "data": {
      "text/plain": [
       "['bcde', 'zbc']"
      ]
     },
     "execution_count": 29,
     "metadata": {},
     "output_type": "execute_result"
    }
   ],
   "source": [
    "B"
   ]
  },
  {
   "cell_type": "code",
   "execution_count": 30,
   "id": "48f4a050",
   "metadata": {},
   "outputs": [
    {
     "data": {
      "text/plain": [
       "['zbc', 'bcde']"
      ]
     },
     "execution_count": 30,
     "metadata": {},
     "output_type": "execute_result"
    }
   ],
   "source": [
    "C"
   ]
  },
  {
   "cell_type": "code",
   "execution_count": null,
   "id": "5f2df1ed",
   "metadata": {},
   "outputs": [],
   "source": []
  }
 ],
 "metadata": {
  "kernelspec": {
   "display_name": "py312",
   "language": "python",
   "name": "python3"
  },
  "language_info": {
   "codemirror_mode": {
    "name": "ipython",
    "version": 3
   },
   "file_extension": ".py",
   "mimetype": "text/x-python",
   "name": "python",
   "nbconvert_exporter": "python",
   "pygments_lexer": "ipython3",
   "version": "3.12.11"
  }
 },
 "nbformat": 4,
 "nbformat_minor": 5
}
