{
 "cells": [
  {
   "cell_type": "markdown",
   "id": "203d0132",
   "metadata": {},
   "source": [
    "# FUnction to check if a number is prime or not \n",
    "\n",
    "- isprime(2) should return True \n",
    "- isprime(10) should return False"
   ]
  },
  {
   "cell_type": "code",
   "execution_count": 52,
   "id": "039b0a4d",
   "metadata": {},
   "outputs": [],
   "source": [
    "def isprime(k):\n",
    "    if k<=1:\n",
    "        print(f\"{k} is a not prime number\")\n",
    "    \n",
    "    x = int(k**0.5) + 1\n",
    "    flag = True\n",
    "    for i in range(2,x):\n",
    "        #print(i)\n",
    "        if k%i==0:\n",
    "         #print(f\"{k} is not a prime number\")\n",
    "         flag = False\n",
    "         break\n",
    "    \n",
    "    return flag\n",
    "    \n",
    "    \n",
    "        "
   ]
  },
  {
   "cell_type": "code",
   "execution_count": 54,
   "id": "481c2199",
   "metadata": {},
   "outputs": [
    {
     "data": {
      "text/plain": [
       "True"
      ]
     },
     "execution_count": 54,
     "metadata": {},
     "output_type": "execute_result"
    }
   ],
   "source": [
    "isprime(29)"
   ]
  },
  {
   "cell_type": "code",
   "execution_count": 18,
   "id": "bd064565",
   "metadata": {},
   "outputs": [
    {
     "data": {
      "text/plain": [
       "2.6457513110645907"
      ]
     },
     "execution_count": 18,
     "metadata": {},
     "output_type": "execute_result"
    }
   ],
   "source": [
    "7**0.5"
   ]
  },
  {
   "cell_type": "code",
   "execution_count": 34,
   "id": "2bda9599",
   "metadata": {},
   "outputs": [
    {
     "ename": "TypeError",
     "evalue": "'float' object cannot be interpreted as an integer",
     "output_type": "error",
     "traceback": [
      "\u001b[31m---------------------------------------------------------------------------\u001b[39m",
      "\u001b[31mTypeError\u001b[39m                                 Traceback (most recent call last)",
      "\u001b[36mCell\u001b[39m\u001b[36m \u001b[39m\u001b[32mIn[34]\u001b[39m\u001b[32m, line 1\u001b[39m\n\u001b[32m----> \u001b[39m\u001b[32m1\u001b[39m \u001b[38;5;28;01mfor\u001b[39;00m i \u001b[38;5;129;01min\u001b[39;00m \u001b[38;5;28;43mrange\u001b[39;49m\u001b[43m(\u001b[49m\u001b[32;43m2\u001b[39;49m\u001b[43m,\u001b[49m\u001b[32;43m4.1\u001b[39;49m\u001b[43m)\u001b[49m:\n\u001b[32m      2\u001b[39m     \u001b[38;5;28mprint\u001b[39m(i)\n",
      "\u001b[31mTypeError\u001b[39m: 'float' object cannot be interpreted as an integer"
     ]
    }
   ],
   "source": [
    "for i in range(2,4.1):\n",
    "    print(i)"
   ]
  },
  {
   "cell_type": "code",
   "execution_count": null,
   "id": "146b5830",
   "metadata": {},
   "outputs": [],
   "source": []
  }
 ],
 "metadata": {
  "kernelspec": {
   "display_name": "py312",
   "language": "python",
   "name": "python3"
  },
  "language_info": {
   "codemirror_mode": {
    "name": "ipython",
    "version": 3
   },
   "file_extension": ".py",
   "mimetype": "text/x-python",
   "name": "python",
   "nbconvert_exporter": "python",
   "pygments_lexer": "ipython3",
   "version": "3.12.11"
  }
 },
 "nbformat": 4,
 "nbformat_minor": 5
}
